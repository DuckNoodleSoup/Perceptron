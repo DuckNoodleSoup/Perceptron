{
 "cells": [
  {
   "cell_type": "markdown",
   "metadata": {},
   "source": [
    "Using a Perceptron to Classify Poisonous and Edible Mushrooms\n",
    "\n",
    "Project-2, Shuzo Katayama, September 11 2020\n",
    "\n",
    "Data from: https://www.kaggle.com/uciml/mushroom-classification"
   ]
  },
  {
   "cell_type": "code",
   "execution_count": 9,
   "metadata": {},
   "outputs": [],
   "source": [
    "import pandas as pd\n",
    "import numpy as np\n",
    "from matplotlib import pyplot as plt"
   ]
  },
  {
   "cell_type": "code",
   "execution_count": 10,
   "metadata": {},
   "outputs": [],
   "source": [
    "# Import Dataset from CSV\n",
    "df = pd.read_csv('datasets_478_974_mushrooms.csv')"
   ]
  },
  {
   "cell_type": "code",
   "execution_count": 15,
   "metadata": {},
   "outputs": [
    {
     "data": {
      "text/plain": [
       "array([['p', 'x', 's', ..., 'k', 's', 'u'],\n",
       "       ['e', 'x', 's', ..., 'n', 'n', 'g'],\n",
       "       ['e', 'b', 's', ..., 'n', 'n', 'm'],\n",
       "       ...,\n",
       "       ['e', 'f', 's', ..., 'b', 'c', 'l'],\n",
       "       ['p', 'k', 'y', ..., 'w', 'v', 'l'],\n",
       "       ['e', 'x', 's', ..., 'o', 'c', 'l']], dtype=object)"
      ]
     },
     "execution_count": 15,
     "metadata": {},
     "output_type": "execute_result"
    }
   ],
   "source": [
    "a = df.to_numpy()\n",
    "a"
   ]
  },
  {
   "cell_type": "code",
   "execution_count": 12,
   "metadata": {},
   "outputs": [],
   "source": [
    "# Classifying into poisonous and edible:\n",
    "# First column in df: p for poisonous and e for edible"
   ]
  },
  {
   "cell_type": "code",
   "execution_count": 14,
   "metadata": {},
   "outputs": [
    {
     "data": {
      "text/plain": [
       "array([], shape=(3916, 0), dtype=object)"
      ]
     },
     "execution_count": 14,
     "metadata": {},
     "output_type": "execute_result"
    }
   ],
   "source": [
    "# Poisonous mushrooms\n",
    "\n",
    "poisonous = a[a[:,0] == 'p', :0]\n",
    "poisonous"
   ]
  },
  {
   "cell_type": "code",
   "execution_count": null,
   "metadata": {},
   "outputs": [],
   "source": []
  }
 ],
 "metadata": {
  "kernelspec": {
   "display_name": "Python 3",
   "language": "python",
   "name": "python3"
  },
  "language_info": {
   "codemirror_mode": {
    "name": "ipython",
    "version": 3
   },
   "file_extension": ".py",
   "mimetype": "text/x-python",
   "name": "python",
   "nbconvert_exporter": "python",
   "pygments_lexer": "ipython3",
   "version": "3.8.5"
  }
 },
 "nbformat": 4,
 "nbformat_minor": 4
}
